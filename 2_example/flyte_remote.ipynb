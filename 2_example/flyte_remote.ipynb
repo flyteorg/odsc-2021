{
 "cells": [
  {
   "cell_type": "markdown",
   "id": "ba863bd9",
   "metadata": {},
   "source": [
    "## FlyteRemote\n",
    "\n",
    "For those who require programmatic access to the control plane, the remote module enables you to perform certain operations in a Python runtime environment.\n",
    "\n",
    "First, import the necessary dependency and create a FlyteRemote object."
   ]
  },
  {
   "cell_type": "code",
   "execution_count": null,
   "id": "1911239b",
   "metadata": {},
   "outputs": [],
   "source": [
    "from flytekit.remote import FlyteRemote, workflow_execution\n",
    "\n",
    "remote = FlyteRemote.from_config(\n",
    "    \"flytesnacks\",\n",
    "    \"development\",\n",
    ")"
   ]
  },
  {
   "cell_type": "markdown",
   "id": "e19f53bd",
   "metadata": {},
   "source": [
    "Fetch the Flyte workflow entity."
   ]
  },
  {
   "cell_type": "code",
   "execution_count": null,
   "id": "75050dd7",
   "metadata": {},
   "outputs": [],
   "source": [
    "flyte_workflow = remote.fetch_workflow(\n",
    "    name=\"house_price_prediction.house_price_predictor.house_price_predictor_trainer\",\n",
    "    version=\"v1\",\n",
    ")"
   ]
  },
  {
   "cell_type": "markdown",
   "id": "f33abc5e",
   "metadata": {},
   "source": [
    "Execute the workflow entity and fetch house price predictions."
   ]
  },
  {
   "cell_type": "code",
   "execution_count": null,
   "id": "921b2881",
   "metadata": {},
   "outputs": [],
   "source": [
    "workflow_execution = remote.execute(flyte_workflow, inputs={}, wait=True)\n",
    "print(workflow_execution.outputs)"
   ]
  }
 ],
 "metadata": {
  "kernelspec": {
   "display_name": "Python 3 (ipykernel)",
   "language": "python",
   "name": "python3"
  },
  "language_info": {
   "codemirror_mode": {
    "name": "ipython",
    "version": 3
   },
   "file_extension": ".py",
   "mimetype": "text/x-python",
   "name": "python",
   "nbconvert_exporter": "python",
   "pygments_lexer": "ipython3",
   "version": "3.8.10"
  }
 },
 "nbformat": 4,
 "nbformat_minor": 5
}
