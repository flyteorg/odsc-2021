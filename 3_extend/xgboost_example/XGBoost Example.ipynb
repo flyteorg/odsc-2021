{
 "cells": [
  {
   "cell_type": "code",
   "execution_count": null,
   "id": "735b000f",
   "metadata": {},
   "outputs": [],
   "source": [
    "# Let's first import the dependencies.\n",
    "\n",
    "from typing import Dict, List, NamedTuple\n",
    "\n",
    "import xgboost\n",
    "from flytekitplugins.xgboost import (\n",
    "    HyperParameters,\n",
    "    ModelParameters,\n",
    "    XGBoostParameters,\n",
    "    XGBoostTrainerTask,\n",
    ")\n",
    "\n",
    "from flytekit import kwtypes, task, workflow\n",
    "from flytekit.types.file import FlyteFile, JoblibSerializedFile"
   ]
  },
  {
   "cell_type": "code",
   "execution_count": null,
   "id": "acdb540a",
   "metadata": {},
   "outputs": [],
   "source": [
    "# Next, we initialize an XGBoost task.\n",
    "\n",
    "xgboost_trainer = XGBoostTrainerTask(\n",
    "    name=\"xgboost_trainer\",\n",
    "    config=XGBoostParameters(\n",
    "        hyper_parameters=HyperParameters(\n",
    "            max_depth=2, eta=1, objective=\"binary:logistic\", verbosity=2\n",
    "        ),\n",
    "    ),\n",
    "    inputs=kwtypes(\n",
    "        train=FlyteFile,\n",
    "        test=FlyteFile,\n",
    "        validation=FlyteFile,\n",
    "        model_parameters=ModelParameters,\n",
    "    ),\n",
    ")"
   ]
  },
  {
   "cell_type": "code",
   "execution_count": null,
   "id": "4957bbd7",
   "metadata": {},
   "outputs": [],
   "source": [
    "# We define a task to estimate the accuracy of our model.\n",
    "\n",
    "@task\n",
    "def estimate_accuracy(predictions: List[float], test: FlyteFile) -> float:\n",
    "    test.download()\n",
    "    dtest = xgboost.DMatrix(test.path)\n",
    "    labels = dtest.get_label()\n",
    "    return (\n",
    "        sum(\n",
    "            1 for i in range(len(predictions)) if int(predictions[i] > 0.5) == labels[i]\n",
    "        )\n",
    "        / float(len(predictions))\n",
    "        * 100.0\n",
    "    )"
   ]
  },
  {
   "cell_type": "code",
   "execution_count": null,
   "id": "867f05b9",
   "metadata": {},
   "outputs": [],
   "source": [
    "# Lastly, we define a worklow to call the trainer task.\n",
    "wf_output = NamedTuple(\n",
    "    \"wf_output\",\n",
    "    model=JoblibSerializedFile,\n",
    "    accuracy=float,\n",
    "    evaluation_result=Dict[str, Dict[str, List[float]]],\n",
    ")\n",
    "\n",
    "\n",
    "@workflow\n",
    "def full_pipeline(\n",
    "    train: FlyteFile = \"https://raw.githubusercontent.com/dmlc/xgboost/master/demo/data/agaricus.txt.train\",\n",
    "    test: FlyteFile = \"https://raw.githubusercontent.com/dmlc/xgboost/master/demo/data/agaricus.txt.test\",\n",
    "    validation: FlyteFile = \"https://raw.githubusercontent.com/dmlc/xgboost/master/demo/data/agaricus.txt.test\",\n",
    ") -> wf_output:\n",
    "    model, predictions, evaluation_result = xgboost_trainer(\n",
    "        train=train,\n",
    "        test=test,\n",
    "        validation=validation,\n",
    "        model_parameters=ModelParameters(num_boost_round=2),\n",
    "    )\n",
    "    return (\n",
    "        model,\n",
    "        estimate_accuracy(\n",
    "            predictions=predictions,\n",
    "            test=test,\n",
    "        ),\n",
    "        evaluation_result,\n",
    "    )\n",
    "\n",
    "\n",
    "if __name__ == \"__main__\":\n",
    "    print(\n",
    "        f\"Running full_pipeline(), accuracy of the XGBoost model is {full_pipeline().accuracy:.2f}%\"\n",
    "    )"
   ]
  },
  {
   "cell_type": "code",
   "execution_count": null,
   "id": "6f08ea4d",
   "metadata": {},
   "outputs": [],
   "source": []
  }
 ],
 "metadata": {
  "interpreter": {
   "hash": "7e85ec9bf098c5427e45e2f632dcd4eeff803b007e1abd287d600879388709c1"
  },
  "kernelspec": {
   "display_name": "Python 3.8.12 64-bit",
   "name": "python3"
  },
  "language_info": {
   "codemirror_mode": {
    "name": "ipython",
    "version": 3
   },
   "file_extension": ".py",
   "mimetype": "text/x-python",
   "name": "python",
   "nbconvert_exporter": "python",
   "pygments_lexer": "ipython3",
   "version": "3.8.12"
  }
 },
 "nbformat": 4,
 "nbformat_minor": 5
}
